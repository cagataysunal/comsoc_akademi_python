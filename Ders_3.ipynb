{
 "cells": [
  {
   "cell_type": "markdown",
   "id": "383d5b57",
   "metadata": {},
   "source": [
    "# Python Eğitimi 3. Ders\n",
    "\n",
    "Bu derste:\n",
    "\n",
    "- os modülü\n",
    "- Python ile dosyalara erişim.\n",
    "- Regular Expressions (regex)\n",
    "\n",
    "konularını öğreneceğiz."
   ]
  },
  {
   "cell_type": "markdown",
   "id": "487dd600",
   "metadata": {},
   "source": [
    "## 0. OS Modülü\n",
    "\n",
    "Python'un çalıştığı işletim sisteminden yararlanmamızı sağlayan bir modüldür."
   ]
  },
  {
   "cell_type": "code",
   "execution_count": null,
   "id": "dee8ac64",
   "metadata": {},
   "outputs": [],
   "source": [
    "import os"
   ]
  },
  {
   "cell_type": "code",
   "execution_count": null,
   "id": "916e98fb",
   "metadata": {},
   "outputs": [],
   "source": [
    "os.chdir('')\n",
    "print(os.getcwd())\n",
    "print(os.listdir())"
   ]
  },
  {
   "cell_type": "code",
   "execution_count": null,
   "id": "4b389ace",
   "metadata": {},
   "outputs": [],
   "source": [
    "# Klasör gezinme\n",
    "os.chdir()\n",
    "os.chdir(owd) # owd = original working directory\n",
    "\n",
    "# Klasör Yaratma\n",
    "os.mkdir('test_klasoru/baska_test_klasoru')\n",
    "os.mkdirs('test_klasoru/baska_test_klasoru')\n",
    "\n",
    "# Klasör Silme\n",
    "os.rmdir()\n",
    "os.removedirs()\n",
    "\n",
    "# Dosya adı değiştirme\n",
    "os.rename()"
   ]
  },
  {
   "cell_type": "code",
   "execution_count": null,
   "id": "3e1a7c3c",
   "metadata": {},
   "outputs": [],
   "source": [
    "# Bir klasörün altındaki bütün klasörleri gezmek için.\n",
    "os.walk(os.getcwd())\n",
    "\n",
    "for mevcut_konum, klasorler, dosyalar in os.walk(os.getcwd()):\n",
    "    print('Konum:', mevcut_konum)\n",
    "    print('Klasörler:', klasorler)\n",
    "    print('Dosyalar:', dosyalar)\n",
    "    print()"
   ]
  },
  {
   "cell_type": "markdown",
   "id": "8a6bfffa",
   "metadata": {},
   "source": [
    "### Mutlak Konum ve Göreli Konum\n",
    "Dosyanın bütün yolunu yazdığımız konuma mutlak konum denir.  \n",
    "Mutlak konum `C:\\Users\\cagat\\Desktop` şeklinde yazılır.\n",
    "\n",
    "Dosyanın, mevcut çalışılan klasöre göre olan konumuna göreli konum denir. `.` mevcut klasörü, `..` ise ebeveyn klasörü ifade etmek için kullanılır. Örneğin: `..\\bir_klasor\\baska_klasor`, bir üst klasöre çık ve `bir_klasor` içindeki `baska_klasor` klasörünü göster demektir. `.\\birbaskaklasor\\` ise mevcut klasörün altındaki `birbaskaklasor` klasörünü göster anlamına gelir.\n",
    "\n",
    "Konumlar ile ilgili bilgi edinmek ve işlem yapmak için `os` modülü içindeki `os.path` modülünü kullanırız."
   ]
  },
  {
   "cell_type": "code",
   "execution_count": null,
   "id": "b46503e0",
   "metadata": {},
   "outputs": [],
   "source": [
    "os.path.abspath('..\\\\..')"
   ]
  },
  {
   "cell_type": "code",
   "execution_count": null,
   "id": "232f7913",
   "metadata": {},
   "outputs": [],
   "source": [
    "# os.environ\n",
    "os.environ\n",
    "\n",
    "print(os.environ.get('HOMEPATH'))"
   ]
  },
  {
   "cell_type": "code",
   "execution_count": null,
   "id": "dd75167b",
   "metadata": {},
   "outputs": [],
   "source": [
    "# Concetanation vs os.path.join metodu\n",
    "\n",
    "file_path = os.environ.get('HOMEPATH') + 'test_dosyasi.txt'\n",
    "print(file_path)\n",
    "\n",
    "\n",
    "file_path = os.path.join(os.environ.get('HOMEPATH'), 'test_dosyasi.txt')"
   ]
  },
  {
   "cell_type": "code",
   "execution_count": null,
   "id": "117c3f3b",
   "metadata": {},
   "outputs": [],
   "source": [
    "# EĞER BAŞLADIĞIMIZ KLASÖRE GERİ DÖNMEK İSTİYORSAK os.chdir"
   ]
  },
  {
   "cell_type": "markdown",
   "id": "47f92892",
   "metadata": {},
   "source": [
    "## 1. Dosyalara Erişim\n",
    "\n",
    "Python'da bilgisayardaki dosyaları açmak için `open()` fonksiyonunu kullanırız. Bu fonksiyon dosyanın kendisinden ziyade bize ilgili dosyaya ait bir \"dosya tanıtıcısı\" (File Handle) döndürür (dosyanın anahtarı gibi düşünülebilir). Bu sayede bellekte büyük miktarlarda veri saklanmasına gerek kalmaz."
   ]
  },
  {
   "cell_type": "code",
   "execution_count": 2,
   "id": "35b68222",
   "metadata": {},
   "outputs": [],
   "source": [
    "f = open('test_dosyasi.txt', 'r', encoding='utf-8')\n",
    "\n",
    "# Dosya okumak istersek: r\n",
    "# Dosyaya yazmak istersek: (komple silip baştan yazar) w\n",
    "# Dosyaya ekleyerek yazmak istersek: a\n",
    "# Dosyayı hem okuyup hem yazmak istersek: r+"
   ]
  },
  {
   "cell_type": "code",
   "execution_count": 3,
   "id": "57bacefa",
   "metadata": {},
   "outputs": [
    {
     "name": "stdout",
     "output_type": "stream",
     "text": [
      "<_io.TextIOWrapper name='test_dosyasi.txt' mode='r' encoding='utf-8'>\n",
      "test_dosyasi.txt\n",
      "r\n"
     ]
    }
   ],
   "source": [
    "print(f)\n",
    "print(f.name)\n",
    "print(f.mode)"
   ]
  },
  {
   "cell_type": "code",
   "execution_count": null,
   "id": "3c848a98",
   "metadata": {},
   "outputs": [],
   "source": [
    "# açtığımız her dosyayı işimiz bittiğinde kapamalıyız, aksi takdirde çeşitli sorunlar ile karşılaşabiliriz.\n",
    "f.close()"
   ]
  },
  {
   "cell_type": "code",
   "execution_count": null,
   "id": "f5b91d7b",
   "metadata": {},
   "outputs": [],
   "source": [
    "print(f.closed)"
   ]
  },
  {
   "cell_type": "markdown",
   "id": "fdf478e3",
   "metadata": {},
   "source": [
    "Peki eğer kullandığımız dosyada bir hata olursa, veya dosya bir sebepten dolayı kapanmazsa ve programda bellek sızıntısına sebep olursa?\n",
    "### Context Manager\n",
    "Python'da kaynakların etkili kullanımı ve kullanılan kaynakların sisteme geri iadesi için bir \"Context Management Protocol\" (Bağlam Yönetim Protokolü) geliştirilmiştir. Bu bağlam yöneticilerine `with` anahtar kelimesi ile ulaşılabilir."
   ]
  },
  {
   "cell_type": "code",
   "execution_count": 5,
   "id": "6f9c295e",
   "metadata": {
    "scrolled": true
   },
   "outputs": [
    {
     "name": "stdout",
     "output_type": "stream",
     "text": [
      "Bu bir test dosyasıdır!!!!\n",
      "İkinci Satır\n",
      "Üçüncü Satır\n",
      "Dördüncü Satır\n",
      "Beşinci Satır\n",
      "Altıncı Satır\n",
      "Yedinci Satır\n",
      "Sekizinci Satır\n",
      "Dokuzuncu Satır\n",
      "Onuncu Satır\n"
     ]
    }
   ],
   "source": [
    "# bundan sonra burada gösterilecek.\n",
    "\n",
    "with open('test_dosyasi.txt', 'r', encoding='utf-8') as f:\n",
    "    f_icerik = f.read()\n",
    "    print(f_icerik)"
   ]
  },
  {
   "cell_type": "code",
   "execution_count": null,
   "id": "bfe9c55d",
   "metadata": {},
   "outputs": [],
   "source": [
    "# Peki çok büyük bir dosyamız var ise ve biz tüm içeriği tek bir değişkene yüklemek istemiyorsak? Yoksa OutOfMemoryError alırız.\n",
    "\n",
    "with open('test_dosyasi.txt', 'r', encoding='utf-8') as f:\n",
    "    f_icerik = f.readlines()\n",
    "    print(f_icerik)"
   ]
  },
  {
   "cell_type": "code",
   "execution_count": null,
   "id": "0bf4d0e5",
   "metadata": {},
   "outputs": [],
   "source": [
    "# .readline(), ilk satırı okur ve imleci bir sonraki satıra getirir.\n",
    "\n",
    "with open('test_dosyasi.txt', 'r', encoding='utf-8') as f:\n",
    "    f_icerik = f.readline()\n",
    "    print(f_icerik)"
   ]
  },
  {
   "cell_type": "code",
   "execution_count": 8,
   "id": "f429429d",
   "metadata": {},
   "outputs": [
    {
     "name": "stdout",
     "output_type": "stream",
     "text": [
      "Bu bir test dosyasıdır!!!!\n",
      "İkinci Satır\n",
      "Üçüncü Satır\n",
      "Dördüncü Satır\n",
      "Beşinci Satır\n",
      "Altıncı Satır\n",
      "Yedinci Satır\n",
      "Sekizinci Satır\n",
      "Dokuzuncu Satır\n",
      "Onuncu Satır"
     ]
    }
   ],
   "source": [
    "# File Handle'lar ile her bir satırı for loop ile geçebiliriz.\n",
    "\n",
    "with open('test_dosyasi.txt', 'r', encoding='utf-8') as f:\n",
    "    for line in f:\n",
    "        print(line, end='')\n",
    "        \n",
    "# Burada iki boşluk bırakıyor, çünkü dosyadaki \\n karakterinin yanında, print fonksiyonu kendi boşluğunu da bırakır. \n",
    "# Bunun önüne geçmek için end = '' parametresini geçiririz."
   ]
  },
  {
   "cell_type": "code",
   "execution_count": null,
   "id": "75d3d664",
   "metadata": {},
   "outputs": [],
   "source": [
    "# .read() metodunda, okumak istediğimiz miktarı da belirtebiliriz.\n",
    "\n",
    "with open('test_dosyasi.txt', 'r', encoding='utf-8') as f:\n",
    "    \n",
    "    okunacak_miktar = 100\n",
    "    \n",
    "    f_icerik = f.read(okunacak_miktar)\n",
    "    print(f_icerik, end='')\n",
    "    "
   ]
  },
  {
   "cell_type": "code",
   "execution_count": 13,
   "id": "817c075f",
   "metadata": {},
   "outputs": [
    {
     "name": "stdout",
     "output_type": "stream",
     "text": [
      "Bu bir test dosyasıdır!!!!\n",
      "İkinci Satır\n",
      "Üçüncü Satır\n",
      "Dördüncü Satır\n",
      "Beşinci Satır\n",
      "Altıncı Satır\n",
      "Yedinci Satır\n",
      "Sekizinci Satır\n",
      "Dokuzuncu Satır\n",
      "Onuncu Satır"
     ]
    }
   ],
   "source": [
    "# while len(f_icerik) > 0 ile dosya bitene kadar okuma\n",
    "\n",
    "with open('test_dosyasi.txt', 'r', encoding='utf-8') as f:\n",
    "    \n",
    "    okunacak_miktar = 100\n",
    "    \n",
    "    f_icerik = f.read(okunacak_miktar)\n",
    "    while len(f_icerik) > 0:\n",
    "        print(f_icerik, end='')\n",
    "        f_icerik = f.read(okunacak_miktar)"
   ]
  },
  {
   "cell_type": "markdown",
   "id": "63c7bcab",
   "metadata": {},
   "source": [
    "Dosyaları okurken, imlecin istediğimiz bir pozisyona dönmesini istiyorsak ```f.seek()``` metodunu kullanırız."
   ]
  },
  {
   "cell_type": "code",
   "execution_count": 15,
   "id": "f8a40f13",
   "metadata": {},
   "outputs": [
    {
     "name": "stdout",
     "output_type": "stream",
     "text": [
      "Bu bir tes\n",
      "Bu bir tes\n"
     ]
    }
   ],
   "source": [
    "# f.seek() NOT: ICERIK UZERINDE DEĞIL FILE HANDLE UZERINDE\n",
    "\n",
    "with open('test_dosyasi.txt', 'r', encoding='utf-8') as f:\n",
    "    \n",
    "    okunacak_miktar = 10\n",
    "    \n",
    "    f_icerik = f.read(okunacak_miktar)\n",
    "    print(f_icerik)\n",
    "    \n",
    "    f.seek(0)\n",
    "    \n",
    "    f_icerik = f.read(okunacak_miktar)\n",
    "    print(f_icerik)"
   ]
  },
  {
   "cell_type": "markdown",
   "id": "d06ed8f0",
   "metadata": {},
   "source": [
    "### Dosyaya Yazma"
   ]
  },
  {
   "cell_type": "code",
   "execution_count": 17,
   "id": "39cd904f",
   "metadata": {},
   "outputs": [
    {
     "ename": "NameError",
     "evalue": "name 'os' is not defined",
     "output_type": "error",
     "traceback": [
      "\u001b[1;31m---------------------------------------------------------------------------\u001b[0m",
      "\u001b[1;31mNameError\u001b[0m                                 Traceback (most recent call last)",
      "\u001b[1;32m<ipython-input-17-95c8926008f6>\u001b[0m in \u001b[0;36m<module>\u001b[1;34m\u001b[0m\n\u001b[0;32m      4\u001b[0m \u001b[1;31m#     f.write('Bir şeyler')\u001b[0m\u001b[1;33m\u001b[0m\u001b[1;33m\u001b[0m\u001b[1;33m\u001b[0m\u001b[0m\n\u001b[0;32m      5\u001b[0m \u001b[1;33m\u001b[0m\u001b[0m\n\u001b[1;32m----> 6\u001b[1;33m \u001b[0mos\u001b[0m\u001b[1;33m.\u001b[0m\u001b[0mgetcwd\u001b[0m\u001b[1;33m(\u001b[0m\u001b[1;33m)\u001b[0m\u001b[1;33m\u001b[0m\u001b[1;33m\u001b[0m\u001b[0m\n\u001b[0m\u001b[0;32m      7\u001b[0m \u001b[1;33m\u001b[0m\u001b[0m\n\u001b[0;32m      8\u001b[0m \u001b[1;31m# with open('test_dosyasi2.txt', 'w', encoding='utf-8') as f:\u001b[0m\u001b[1;33m\u001b[0m\u001b[1;33m\u001b[0m\u001b[1;33m\u001b[0m\u001b[0m\n",
      "\u001b[1;31mNameError\u001b[0m: name 'os' is not defined"
     ]
    }
   ],
   "source": [
    "# Eğer dosyayı oluşturmak veya olan dosyanın üzerine yazmak istiyorsak 'w' kullanırız.\n",
    "\n",
    "with open('test_dosyasi.txt', 'r', encoding='utf-8') as f:\n",
    "    f.write('Bir şeyler')"
   ]
  },
  {
   "cell_type": "code",
   "execution_count": null,
   "id": "a0aa4c67",
   "metadata": {},
   "outputs": [],
   "source": [
    "print(os.listdir())"
   ]
  },
  {
   "cell_type": "code",
   "execution_count": null,
   "id": "15ef52f4",
   "metadata": {},
   "outputs": [],
   "source": [
    "with open('test_dosyasi2.txt', 'w', encoding='utf-8') as f:\n",
    "    f.write('Bir şeyler')\n",
    "\n",
    "print(os.listdir())"
   ]
  },
  {
   "cell_type": "markdown",
   "id": "d3b90782",
   "metadata": {},
   "source": [
    "## Regular Expressions\n",
    "Bir string içinde telefon numarası olup olmadığına bakmak istediğimizi varsayalım. Telefon numaramızın formatı `xxx xxx xxxx` şeklinde olsun."
   ]
  },
  {
   "cell_type": "code",
   "execution_count": null,
   "id": "792d0ddf",
   "metadata": {},
   "outputs": [],
   "source": [
    "gelen_mesaj = '555 555 5555'\n",
    "\n",
    "def telno_kontrol(text):\n",
    "    if len(text) != 12:\n",
    "        return False\n",
    "    for i in range(3):\n",
    "        if not text[i].isdecimal():\n",
    "            return False\n",
    "    if text[3] != ' ':\n",
    "        return False\n",
    "    for i in range(4, 7):\n",
    "        if not text[i].isdecimal():\n",
    "            return False\n",
    "    if text[7] != ' ':\n",
    "        return False\n",
    "    for i in range(8, 12):\n",
    "        if not text[i].isdecimal():\n",
    "            return False\n",
    "    return True\n",
    "\n",
    "if telno_kontrol(gelen_mesaj):\n",
    "    print(f'{gelen_mesaj} bir telefon numarasıdır.')\n",
    "\n",
    "else:\n",
    "    print(f'{gelen_mesaj} bir telefon numarası değildir.')"
   ]
  },
  {
   "cell_type": "code",
   "execution_count": null,
   "id": "9f99a7e8",
   "metadata": {},
   "outputs": [],
   "source": [
    "gelen_mesaj = ('Merhaba. Daha sonra arayabilmeniz için telefon numaramı iletiyorum: 555 555 5555. '\n",
    "               'Eğer ulaşamazsanız 456 654 4545 numarasını deneyin. İyi günler.')\n",
    "\n",
    "def telno_kontrol(text):\n",
    "    if len(text) != 12:\n",
    "        return False\n",
    "    for i in range(3):\n",
    "        if not text[i].isdecimal():\n",
    "            return False\n",
    "    if text[3] != ' ':\n",
    "        return False\n",
    "    for i in range(4, 7):\n",
    "        if not text[i].isdecimal():\n",
    "            return False\n",
    "    if text[7] != ' ':\n",
    "        return False\n",
    "    for i in range(8, 12):\n",
    "        if not text[i].isdecimal():\n",
    "            return False\n",
    "    return True\n",
    "\n",
    "numara_bulundu = False\n",
    "string_parcasi = ''\n",
    "\n",
    "for i in range(len(gelen_mesaj)):\n",
    "    string_parcasi = gelen_mesaj[i:i+12]    \n",
    "    if telno_kontrol(string_parcasi):\n",
    "        print('Telefon Numarası:', string_parcasi)\n",
    "        numara_bulundu = True\n",
    "\n",
    "if not numara_bulundu:\n",
    "    print('Telefon numarası bulunamadı.')"
   ]
  },
  {
   "cell_type": "markdown",
   "id": "74209424",
   "metadata": {},
   "source": [
    "Gördüğünüz üzere bir telefon numarası bulmak için bile karmaşık ve uzun bir kod yazmamız gerekti. Üstelik bu kod hata vermeye çok meyilli ve `(xxx) xxx xxxx`, `+xx xxx xxx xxxx`, `0xxxxxxxxxx` gibi alternatif ama geçerli telefon formatlarını saptayamıyor.\n",
    "\n",
    "Burada yardımımıza Regular Expressions dediğimiz bir yapı koşuyor: **Regular Expressions bir yazıdaki desenleri bulmamıza ve eşleştirmemize yarayan ifade biçimleridir.** Aynı programı regular expressions kullanarak nasıl yazabileceğimize bir bakalım."
   ]
  },
  {
   "cell_type": "code",
   "execution_count": null,
   "id": "c3ce4371",
   "metadata": {},
   "outputs": [],
   "source": [
    "import re\n",
    "\n",
    "gelen_mesaj = ('Merhaba. Daha sonra arayabilmeniz için telefon numaramı iletiyorum: 0 555 555 5555. '\n",
    "               'Eğer ulaşamazsanız 456 654 4545 numarasını deneyin. İyi günler.')\n",
    "\n",
    "def telno_kontrol(text):\n",
    "    regex = re.compile(r'\\d\\d\\d \\d\\d\\d \\d\\d\\d\\d')\n",
    "    return regex.findall(text)\n",
    "\n",
    "telefon_numaralari = telno_kontrol(gelen_mesaj)\n",
    "print(telefon_numaralari)\n",
    "\n",
    "for telno in telefon_numaralari:\n",
    "    print(f'Telefon Numarası: {telno}')"
   ]
  },
  {
   "cell_type": "markdown",
   "id": "c0589a5b",
   "metadata": {},
   "source": [
    "### Regex Meta-Karakterleri:\n",
    "\n",
    "- `?`:             0 veya 1 kere eşleştir. NOT: +, \\* veya {}'dan sonra gelirse, açgözlü olmayan eşleştirme yap anlamına gelir. (Greedy vs. Non-Greedy Matching)\n",
    "+ `*`:            0 veya daha fazla kez eşleştir.\n",
    "+ `+`:             1 veya daha fazla kez eşleştir.\n",
    "+ `{x, y}`:        En az x, en fazla y kere eşleştir.\n",
    "+ `^`:             Satırın başı eşleşmeli.\n",
    "+ `$`:             Satırın sonu eşleşmeli.\n",
    "+ `.`:             Herhangi bir karakter yerine geçer. (\\n hariç)\n",
    "- `[aeıioöuü]`:    Eşleştirilecek bir karakterler kümesi belirtir.\n",
    "- `[a-zA-Z0-9]`:   Eşleştirilecek bir karakter aralığı belirtir.\n",
    "- `[^aeıioöuü]`:   Kümenin TÜMLEYENİNİ, yani küme içinde olmayan elemanları eşler.\n",
    "- `()`:            Bir karakter grubu belirtir.\n",
    "- `(?:)`:            Yakalamayan bir karakter grubu belirtir.\n",
    "\n",
    "\n",
    "- `\\w`: Herhangi bir alfanümerik karakter veya _ karakterini eşleştir.\n",
    "- `\\W`: Herhangi bir alfanümerik karakter veya _ karakteri OLMAYAN bir karakteri eşleştir.\n",
    "- `\\d`: Herhangi bir rakamı eşleştir.\n",
    "- `\\D`: Herhangi rakam OLMAYAN bir karakteri eşleştir.\n",
    "- `\\s`: Herhangi bir boşluk karakteri eşleştir. (tab ve yeni satır karakteri dahil)\n",
    "- `\\S`: Herhangi boşluk OLMAYAN bir karakteri eşleştir. (tab ve yeni satır karakteri dahil)\n",
    "\n",
    "Regular Expressions ile ilgili daha fazla bilgi için [buradaki](https://docs.python.org/3/howto/regex.html) bağlantıya tıklayabilirsiniz."
   ]
  },
  {
   "cell_type": "code",
   "execution_count": null,
   "id": "c1b113d5",
   "metadata": {},
   "outputs": [],
   "source": [
    "# ? karakteri\n",
    "\n",
    "regex = re.compile(r'0?\\d\\d\\d \\d\\d\\d \\d\\d\\d')\n",
    "regex.search('533 323 3233')"
   ]
  },
  {
   "cell_type": "code",
   "execution_count": null,
   "id": "d962261c",
   "metadata": {},
   "outputs": [],
   "source": [
    "# * karakteri\n",
    "# + karakteri\n",
    "# {x, y} karakteri\n",
    "\n",
    "regex = re.compile(r'Batman')\n",
    "match = regex.search('Batman')\n",
    "match.group()"
   ]
  },
  {
   "cell_type": "code",
   "execution_count": null,
   "id": "68372c65",
   "metadata": {},
   "outputs": [],
   "source": [
    "# greedy vs non-greedy\n",
    "gelen_mail = 'Konu: EHM434: Sınav notlarınız açıklanmıştır.'\n",
    "\n",
    "mail_regex = re.compile(r'.+:')\n",
    "print(mail_regex.search(gelen_mail).group())"
   ]
  },
  {
   "cell_type": "code",
   "execution_count": null,
   "id": "ef731618",
   "metadata": {},
   "outputs": [],
   "source": [
    "# ^ ve $\n",
    "\n",
    "regex = re.compile(r'stringin başı ve stringin sonu')\n",
    "regex.search('stringin')"
   ]
  },
  {
   "cell_type": "markdown",
   "id": "77fe7b44",
   "metadata": {},
   "source": [
    "### Mail adresinin geçerliliğini kontrol etme uygulaması:\n",
    "\n",
    "- Kullanıcıdan string formatında bir veri alınacak:\n",
    "    - kullaniciadi@domainadi şeklinde olacak.\n",
    "    - kullaniciadi ve domainadi sadece alfanümerik karakterler ve nokta (.), çizgi (-) veya alt çizgi (\\_) karakterlerini içerebilir.\n",
    "    - kullaniciadi ve domainadi - . veya _ karakterleriyle BAŞLAYAMAZ veya BİTEMEZ.\n",
    "    - domainadi noktayla ayrılmış en fazla 3 bölümden oluşabilir.\n",
    "        - `domain.topdomain.ulkekodu` şeklinde.\n",
    "- Geçerli Formatlar:\n",
    "    - `ogrenci_adi@okul.edu.tr`\n",
    "    - `ogrenciadi@hotmail.com`\n",
    "    - `ogrenci-40@gmail.com`\n",
    "- Geçersiz Formatlar:\n",
    "    - `isimsoyisim`\n",
    "    - `isimsoyisim.com`\n",
    "    - `isimsoyisim@asdasd.com.org.tr.uk`\n",
    "    - `_serseri_cocuk_@hotmail.com`"
   ]
  },
  {
   "cell_type": "code",
   "execution_count": null,
   "id": "382c1584",
   "metadata": {},
   "outputs": [],
   "source": [
    "def validity_check(email):\n",
    "    try:\n",
    "        kullanici_adi, domain_adi = email.split('@')\n",
    "    except ValueError:\n",
    "        return False\n",
    "    if (len(domain_adi.split('.')) > 3) or (len(domain_adi.split('.')) < 1):\n",
    "        return False\n",
    "    if domain_adi.startswith(('.', '-', '_')) or domain_adi.endswith(('.', '-', '_')) or \\\n",
    "            kullanici_adi.startswith(('.', '-', '_')) or kullanici_adi.endswith(('.', '-', '_')):\n",
    "        return False\n",
    "    regex = re.compile(r'^[\\w.-]+@[\\w.-]+$')\n",
    "    return bool(regex.match(email))\n",
    "\n",
    "\n",
    "# e-mail adresi alma\n",
    "email = input('Lütfen E-Mail adresinizi giriniz: ')\n",
    "\n",
    "if validity_check(email):\n",
    "    print('Mail adresiniz doğrudur.')\n",
    "else:\n",
    "    print('Mail adresiniz yanlıştır.')"
   ]
  },
  {
   "cell_type": "code",
   "execution_count": null,
   "id": "54a14772",
   "metadata": {},
   "outputs": [],
   "source": [
    "def validity_check(email):\n",
    "    regex = re.compile(\n",
    "        r'^(?:[a-zA-Z0-9]+[._-]?[a-zA-Z0-9]+)+@(?:[a-zA-Z0-9]+[-]?[a-zA-Z0-9]+)+\\.[a-zA-Z]{2, 3}(?:\\.[a-zA-Z]{2})?$')\n",
    "    return bool(regex.match(email))\n",
    "\n",
    "\n",
    "# e-mail adresi alma\n",
    "email = input('Lütfen E-Mail adresinizi giriniz: ')\n",
    "\n",
    "if validity_check(email):\n",
    "    print('Mail adresiniz doğrudur.')\n",
    "else:\n",
    "    print('Mail adresiniz yanlıştır.')"
   ]
  },
  {
   "cell_type": "markdown",
   "id": "1b6d97a1",
   "metadata": {},
   "source": [
    "### `.sub(değişim, string)` metodu\n",
    "Çoğu döküman düzenleyicideki \"Bul ve Değiştir\" fonksiyonu gibidir. Tespit edilen eşleşmelerin yerine `değişim` parametresindeki stringi koyar.   "
   ]
  },
  {
   "cell_type": "code",
   "execution_count": null,
   "id": "130b76aa",
   "metadata": {},
   "outputs": [],
   "source": [
    "cumle = 'mavi çoraplarımı ve kırmızı tişörtümü bulamıyorum'\n",
    "\n",
    "regex = re.compile(r'mavi|kırmızı')\n",
    "regex.sub('renkli', cumle)"
   ]
  },
  {
   "cell_type": "code",
   "execution_count": null,
   "id": "12cecd8f",
   "metadata": {},
   "outputs": [],
   "source": [
    "cumle = 'Ajan Smith ile Ajan Thompson gizli dökümanları ele geçirdi.'\n",
    "\n",
    "regex = re.compile(r'Ajan (\\w)\\w+')\n",
    "regex.sub(r'Ajan \\1', cumle)"
   ]
  }
 ],
 "metadata": {
  "kernelspec": {
   "display_name": "Python 3",
   "language": "python",
   "name": "python3"
  },
  "language_info": {
   "codemirror_mode": {
    "name": "ipython",
    "version": 3
   },
   "file_extension": ".py",
   "mimetype": "text/x-python",
   "name": "python",
   "nbconvert_exporter": "python",
   "pygments_lexer": "ipython3",
   "version": "3.9.4"
  }
 },
 "nbformat": 4,
 "nbformat_minor": 5
}
