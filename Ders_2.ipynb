{
 "cells": [
  {
   "cell_type": "markdown",
   "id": "57e302cd",
   "metadata": {},
   "source": [
    "# Python Eğitimi 2. Ders\n",
    "\n",
    "Bu derste:\n",
    " - List\n",
    " - Metodlar\n",
    " - Tuples\n",
    " - Dictionary\n",
    " - Error Handling (Hata Yönetimi)\n",
    " - String\n",
    " \n",
    "\n",
    "Konularını ele alacağız.\n",
    "\n",
    "---\n",
    "---\n",
    "## 1. List\n",
    "\n",
    "Listeler, içinde birden fazla değer taşıyan değerlerdir. Listeler iki adet köşeli parantez içinde tanımlanırlar. Listenin her bir elemanı virgül ile ayrılır. \n",
    "```py\n",
    "# Liste tanımı\n",
    "['kedi', 'köpek', 'kurbağa', 'kaplumbağa']\n",
    "# Listeler diğer değerler bir değişkene atanabilir. \n",
    "hayvanlar = ['kedi', 'köpek', 'kurbağa', 'kaplumbağa']\n",
    "```\n",
    "---"
   ]
  },
  {
   "cell_type": "code",
   "execution_count": 1,
   "id": "6ba2844c",
   "metadata": {
    "scrolled": false
   },
   "outputs": [
    {
     "name": "stdout",
     "output_type": "stream",
     "text": [
      "['kedi', 'köpek', 'kurbağa', 'kaplumbağa']\n"
     ]
    }
   ],
   "source": [
    "hayvanlar = ['kedi', 'köpek', 'kurbağa', 'kaplumbağa']\n",
    "print(hayvanlar)"
   ]
  },
  {
   "cell_type": "code",
   "execution_count": 2,
   "id": "683f53dd",
   "metadata": {},
   "outputs": [
    {
     "data": {
      "text/plain": [
       "'kedi'"
      ]
     },
     "execution_count": 2,
     "metadata": {},
     "output_type": "execute_result"
    }
   ],
   "source": [
    "hayvanlar[0]"
   ]
  },
  {
   "cell_type": "code",
   "execution_count": 3,
   "id": "383493ab",
   "metadata": {},
   "outputs": [
    {
     "data": {
      "text/plain": [
       "'köpek'"
      ]
     },
     "execution_count": 3,
     "metadata": {},
     "output_type": "execute_result"
    }
   ],
   "source": [
    "hayvanlar[1]"
   ]
  },
  {
   "cell_type": "code",
   "execution_count": 4,
   "id": "c074ad3e",
   "metadata": {},
   "outputs": [
    {
     "name": "stdout",
     "output_type": "stream",
     "text": [
      "['köpek', 'yarasa', [5, 3, 2]]\n",
      "[5, 3, 2]\n"
     ]
    }
   ],
   "source": [
    "# Listeler içinde başka listeler de tutabilirler. \n",
    "\n",
    "liste = ['köpek', 'yarasa', [5, 3, 2]]\n",
    "print(liste)\n",
    "print(liste[2])\n",
    "\n",
    "# Listenin 2. elemanının kendisi bir listedir. \n",
    "# Unutmayın, bilgisayarlar saymaya 0'dan başlar. "
   ]
  },
  {
   "cell_type": "markdown",
   "id": "18a2b506",
   "metadata": {},
   "source": [
    "---\n",
    "**Slicing** ile bir listeden birden fazla eleman elde edilebilir. Index işlemi bize bir eleman döndürürken, Slicing işlemi bize bir *liste* döndürür"
   ]
  },
  {
   "cell_type": "code",
   "execution_count": 5,
   "id": "4c623f98",
   "metadata": {
    "scrolled": true
   },
   "outputs": [
    {
     "data": {
      "text/plain": [
       "['köpek', 'kurbağa']"
      ]
     },
     "execution_count": 5,
     "metadata": {},
     "output_type": "execute_result"
    }
   ],
   "source": [
    "hayvanlar[1:3]"
   ]
  },
  {
   "cell_type": "markdown",
   "id": "467c629b",
   "metadata": {},
   "source": [
    "---\n",
    "Listelerin elemanları değiştirilebilir:"
   ]
  },
  {
   "cell_type": "code",
   "execution_count": 6,
   "id": "c4e69feb",
   "metadata": {},
   "outputs": [
    {
     "data": {
      "text/plain": [
       "'kaplumbağa'"
      ]
     },
     "execution_count": 6,
     "metadata": {},
     "output_type": "execute_result"
    }
   ],
   "source": [
    "hayvanlar[2] = 'kaplumbağa'\n",
    "hayvanlar[2]"
   ]
  },
  {
   "cell_type": "code",
   "execution_count": 7,
   "id": "db22da1c",
   "metadata": {
    "scrolled": true
   },
   "outputs": [
    {
     "data": {
      "text/plain": [
       "['kedi', 'kurt', 'sinek', 'bal arısı', 'kaplumbağa']"
      ]
     },
     "execution_count": 7,
     "metadata": {},
     "output_type": "execute_result"
    }
   ],
   "source": [
    "hayvanlar[1:3] = ['kurt', 'sinek', 'bal arısı']\n",
    "hayvanlar"
   ]
  },
  {
   "cell_type": "markdown",
   "id": "c26302dd",
   "metadata": {},
   "source": [
    "---\n",
    "Listelerden eleman silmek için **del** anahtar kelimesi kullanılabilir."
   ]
  },
  {
   "cell_type": "code",
   "execution_count": 8,
   "id": "1b097aff",
   "metadata": {},
   "outputs": [
    {
     "data": {
      "text/plain": [
       "['kedi', 'kurt', 'bal arısı', 'kaplumbağa']"
      ]
     },
     "execution_count": 8,
     "metadata": {},
     "output_type": "execute_result"
    }
   ],
   "source": [
    "del hayvanlar[2]\n",
    "hayvanlar"
   ]
  },
  {
   "cell_type": "markdown",
   "id": "6830167c",
   "metadata": {},
   "source": [
    "### Liste Operatörleri\n",
    "\n",
    "- '+' operatörü iki listeyi uçtan uca birleştirir.\n",
    "- '\\*' operatörü bir listeyi çarpıldığı tam sayı kadar tekrar ettirir.\n",
    "- 'in' operatörü bir elemanın listede olup olmadığını kontrol eder ve bir boolean değeri döndürür."
   ]
  },
  {
   "cell_type": "code",
   "execution_count": 9,
   "id": "9eee813c",
   "metadata": {},
   "outputs": [
    {
     "data": {
      "text/plain": [
       "[1, 2, 3, 4, 5, 6]"
      ]
     },
     "execution_count": 9,
     "metadata": {},
     "output_type": "execute_result"
    }
   ],
   "source": [
    "# + Operatörü\n",
    "[1, 2, 3] + [4, 5, 6]"
   ]
  },
  {
   "cell_type": "code",
   "execution_count": 10,
   "id": "7ab2b498",
   "metadata": {},
   "outputs": [
    {
     "data": {
      "text/plain": [
       "[1, 2, 3, 1, 2, 3, 1, 2, 3]"
      ]
     },
     "execution_count": 10,
     "metadata": {},
     "output_type": "execute_result"
    }
   ],
   "source": [
    "# * Operatörü\n",
    "[1, 2, 3] * 3"
   ]
  },
  {
   "cell_type": "code",
   "execution_count": 11,
   "id": "6c10219f",
   "metadata": {
    "scrolled": true
   },
   "outputs": [
    {
     "data": {
      "text/plain": [
       "True"
      ]
     },
     "execution_count": 11,
     "metadata": {},
     "output_type": "execute_result"
    }
   ],
   "source": [
    "# in Operatörü\n",
    "6 in [2, 4, 6]"
   ]
  },
  {
   "cell_type": "markdown",
   "id": "c386d2b8",
   "metadata": {},
   "source": [
    "Başka bir koleksiyon objesini (string, dictionary, map, tuple vb.) liste formuna döndürmek için list() fonksiyonu kullanılabilir. "
   ]
  },
  {
   "cell_type": "code",
   "execution_count": 12,
   "id": "3ac37db6",
   "metadata": {
    "scrolled": false
   },
   "outputs": [
    {
     "data": {
      "text/plain": [
       "['k', 'e', 'l', 'i', 'm', 'e']"
      ]
     },
     "execution_count": 12,
     "metadata": {},
     "output_type": "execute_result"
    }
   ],
   "source": [
    "list('kelime')"
   ]
  },
  {
   "cell_type": "markdown",
   "id": "d5949ca3",
   "metadata": {},
   "source": [
    "### Listeler ile For Loop"
   ]
  },
  {
   "cell_type": "code",
   "execution_count": 13,
   "id": "d093739c",
   "metadata": {},
   "outputs": [
    {
     "name": "stdout",
     "output_type": "stream",
     "text": [
      "2\n",
      "5\n",
      "8\n",
      "1\n",
      "12\n",
      "merhaba\n"
     ]
    }
   ],
   "source": [
    "for i in [2, 5, 8, 1, 12, 'merhaba']:\n",
    "    print(i)"
   ]
  },
  {
   "cell_type": "markdown",
   "id": "8f16449b",
   "metadata": {},
   "source": [
    "### Birden Fazla Atama\n",
    "\n",
    "Diyelim ki bir listedeki elemanları ayrı ayrı kendi değişkenlerine atamak istiyoruz. Listedeki bütün elemanlar için tek tek atama yapmak yerine, Python'da bu atamaları tek satırda yapmamıza olanak sağlayan bir özelliği kullanabiliriz."
   ]
  },
  {
   "cell_type": "code",
   "execution_count": 14,
   "id": "bce0f91f",
   "metadata": {},
   "outputs": [
    {
     "name": "stdout",
     "output_type": "stream",
     "text": [
      "2\n",
      "5\n",
      "3\n"
     ]
    }
   ],
   "source": [
    "sayilar = [2, 5, 3]\n",
    "\n",
    "a, b, c = sayilar\n",
    "print(a)\n",
    "print(b)\n",
    "print(c)"
   ]
  },
  {
   "cell_type": "code",
   "execution_count": 15,
   "id": "0c07aef2",
   "metadata": {},
   "outputs": [
    {
     "name": "stdout",
     "output_type": "stream",
     "text": [
      "5\n",
      "12\n",
      "2\n"
     ]
    }
   ],
   "source": [
    "# ya da\n",
    "\n",
    "a, b, c = 5, 12, 2\n",
    "print(a)\n",
    "print(b)\n",
    "print(c)"
   ]
  },
  {
   "cell_type": "code",
   "execution_count": 16,
   "id": "9d03d9eb",
   "metadata": {},
   "outputs": [],
   "source": [
    "# Bu özelliği değişkenlerin değerlerini birbirleriyle değiştirmek için kullanabiliriz.\n",
    "\n",
    "x = 'AAA'\n",
    "y = 'BBB'\n",
    "\n",
    "x, y = y, x"
   ]
  },
  {
   "cell_type": "markdown",
   "id": "5470d3b3",
   "metadata": {},
   "source": [
    "### List Comprehension (Liste Kavrama)\n",
    "Belli bir düzendeki listeleri kolayca oluşturmamıza yarayan bir syntax (sözdizimi) yapısıdır. Yalnızca kodu yazan için değil, kodu okuyan kişi için de kolaylık sağlar."
   ]
  },
  {
   "cell_type": "code",
   "execution_count": 17,
   "id": "49918f87",
   "metadata": {},
   "outputs": [
    {
     "name": "stdout",
     "output_type": "stream",
     "text": [
      "[1, 4, 9, 16, 25, 36, 49, 64, 81, 100]\n"
     ]
    }
   ],
   "source": [
    "# 1'den 10'a kadar olan sayıların kareleri\n",
    "kareler = [x**2 for x in range(1, 11)]\n",
    "print(kareler)"
   ]
  },
  {
   "cell_type": "markdown",
   "id": "8e43260a",
   "metadata": {},
   "source": [
    "---\n",
    "## 2. Metodlar\n",
    "Metodlar, temelde fonksiyonlar ile aynı işlevi görürler ancak fonksiyonlardan farklı olarak, sadece içinde bulunduğu nesnelerde tanımlıdırlar. Bir nesnenin sahip olduğu metodlara ```dir()``` fonksiyonu ile ulaşılabilir."
   ]
  },
  {
   "cell_type": "markdown",
   "id": "a833caa7",
   "metadata": {},
   "source": [
    "### Listeler için metodlar"
   ]
  },
  {
   "cell_type": "markdown",
   "id": "937c0f44",
   "metadata": {},
   "source": [
    "```py\n",
    ".index(deger)          # Bir listenin içinden söylenen değeri arar ve bu değerin endeksini bize döndürür.\n",
    ".sort()                # Bir listeyi sıralar.\n",
    ".insert(index, deger)  # Değeri verilen indexte listeye koyar.\n",
    ".remove(deger)         # Bir listeden belirlenen değerdeki çıkartır.\n",
    ".append(deger)         # Bir listenin sonuna verilen değeri ekler.\n",
    ".pop()                 # Listenin en sonundaki değeri çıkartır ve değer olarak döndürür.\n",
    ".copy()                # Bir listenin kopyasını yaratır.\n",
    ".count(deger)          # Verilen değerin listede kaç defa tekrar ettiğini bize söyler\n",
    ".clear()               # Bir listenin içeriğini siler.\n",
    ".reverse()             # Bir listedeki elemanların sırasını ters çevirir.\n",
    "```"
   ]
  },
  {
   "cell_type": "code",
   "execution_count": 18,
   "id": "a5344c7b",
   "metadata": {},
   "outputs": [],
   "source": [
    "sayilar = [2, 42, 30, 12, 'dokuz', 'yedi']"
   ]
  },
  {
   "cell_type": "code",
   "execution_count": 19,
   "id": "0aaa2b38",
   "metadata": {},
   "outputs": [
    {
     "ename": "TypeError",
     "evalue": "list.append() takes exactly one argument (0 given)",
     "output_type": "error",
     "traceback": [
      "\u001b[1;31m---------------------------------------------------------------------------\u001b[0m",
      "\u001b[1;31mTypeError\u001b[0m                                 Traceback (most recent call last)",
      "\u001b[1;32m<ipython-input-19-aabc06554497>\u001b[0m in \u001b[0;36m<module>\u001b[1;34m\u001b[0m\n\u001b[1;32m----> 1\u001b[1;33m \u001b[0msayilar\u001b[0m\u001b[1;33m.\u001b[0m\u001b[0mappend\u001b[0m\u001b[1;33m(\u001b[0m\u001b[1;33m)\u001b[0m\u001b[1;33m\u001b[0m\u001b[1;33m\u001b[0m\u001b[0m\n\u001b[0m",
      "\u001b[1;31mTypeError\u001b[0m: list.append() takes exactly one argument (0 given)"
     ]
    }
   ],
   "source": [
    "sayilar.append()"
   ]
  },
  {
   "cell_type": "code",
   "execution_count": null,
   "id": "2cc64b93",
   "metadata": {},
   "outputs": [],
   "source": [
    "alfabe = [ 'A', 'z', 'a', 'b', 'B']\n",
    "alfabe.sort()\n",
    "print(alfabe)"
   ]
  },
  {
   "cell_type": "markdown",
   "id": "450069ac",
   "metadata": {},
   "source": [
    "### Listeler ve Stringler arasındaki benzerlikler ve farklar:\n",
    "Stringler ile listeler birbirlerine benzerler. Listede yaptığımız bir çok işlemi ve kullandığımız operatörleri stringler için de kullanabiliriz. Hatta stringler için \"karakter dizisi\" demek yanlış olmaz. \n",
    "\n",
    "Ancak ikisi arasındaki önemli bir fark, stringler'in değiştirilemez olmasıdır. Bu yüzden String'ler üzerinde yaptığımız herhangi bir operasyon, elimizdeki string'i değiştirmek yerine yeni bir string nesnesi oluşturacaktır. (Immutability)"
   ]
  },
  {
   "cell_type": "code",
   "execution_count": 20,
   "id": "9516127f",
   "metadata": {},
   "outputs": [
    {
     "name": "stdout",
     "output_type": "stream",
     "text": [
      "True\n"
     ]
    }
   ],
   "source": [
    "# Stringler'de index, slicing ve in operatörü\n",
    "\n",
    "ornek_string = 'Örnek cümle.'\n",
    "print('ö' in ornek_string.lower())"
   ]
  },
  {
   "cell_type": "markdown",
   "id": "1129ad08",
   "metadata": {},
   "source": [
    "### Python'da İsimlendirme\n",
    "\n",
    "Python'da bütün değişkenler, nesnenin kendisinden ziyade nesnenin bir referansını (kimliğini) tutar. **Bir atama yapıldığında veri kopyalanmaz. Yalnızca verilen isim (değişken) bizi veriye yönlendirir.** Bu, değiştirilemez (immutable) değerler için pek bir sorun yaratmaz, çünkü nesnenin kendisini değiştiremediğimiz için değişkenleri yeni bir değere atarız. Ancak listeler gibi değiştirilebilir nesnelerde bazı kafa karışıklıklarına yol açabilir.\n",
    "\n",
    "Daha iyi kavramak için aşağıdaki örnekleri inceleyelim:"
   ]
  },
  {
   "cell_type": "code",
   "execution_count": 21,
   "id": "ff18219b",
   "metadata": {},
   "outputs": [
    {
     "name": "stdout",
     "output_type": "stream",
     "text": [
      "42\n"
     ]
    }
   ],
   "source": [
    "a = 42\n",
    "b = a\n",
    "\n",
    "a = 100\n",
    "print(b)"
   ]
  },
  {
   "cell_type": "code",
   "execution_count": 22,
   "id": "b124b82c",
   "metadata": {
    "scrolled": true
   },
   "outputs": [
    {
     "name": "stdout",
     "output_type": "stream",
     "text": [
      "[5, 2, 4]\n"
     ]
    }
   ],
   "source": [
    "x = [0, 2, 4]\n",
    "y = x\n",
    "\n",
    "x[0] = 5\n",
    "print(y)"
   ]
  },
  {
   "cell_type": "code",
   "execution_count": 23,
   "id": "975e041b",
   "metadata": {},
   "outputs": [
    {
     "name": "stdout",
     "output_type": "stream",
     "text": [
      "[0, 2, 4, [10, 2, 3]]\n"
     ]
    }
   ],
   "source": [
    "x = [0, 2, 4, [1,2,3]]\n",
    "y = x.copy()\n",
    "\n",
    "x[0] = 5\n",
    "\n",
    "x[3][0] = 10\n",
    "print(y)"
   ]
  },
  {
   "cell_type": "code",
   "execution_count": 24,
   "id": "d1b9336b",
   "metadata": {},
   "outputs": [
    {
     "name": "stdout",
     "output_type": "stream",
     "text": [
      "[0, 2, 4, [1, 2, 3]]\n"
     ]
    }
   ],
   "source": [
    "import copy\n",
    "\n",
    "x = [0, 2, 4, [1,2,3]]\n",
    "y = copy.deepcopy(x)\n",
    "\n",
    "x[0] = 5\n",
    "\n",
    "x[3][0] = 10\n",
    "print(y)"
   ]
  },
  {
   "cell_type": "code",
   "execution_count": 25,
   "id": "0e722916",
   "metadata": {},
   "outputs": [
    {
     "name": "stdout",
     "output_type": "stream",
     "text": [
      "['Elma', 'Portakal', 'Ekmek', 'Süt', 'Yumurta']\n"
     ]
    }
   ],
   "source": [
    "def sepeteYumurtaEkle(sepet):\n",
    "    sepet.append('Yumurta')\n",
    "    \n",
    "x = ['Elma', 'Portakal', 'Ekmek', 'Süt']\n",
    "sepeteYumurtaEkle(x)\n",
    "print(x)"
   ]
  },
  {
   "cell_type": "markdown",
   "id": "e5fcdc86",
   "metadata": {},
   "source": [
    "---\n",
    "## 3. Tuple\n",
    "\n",
    "Yapısı listelere benzeyen ancak değiştirilemeyen nesnelerdir. Parantezler içinde tanımlanırlar.\n",
    "\n",
    "```py\n",
    "# Tuple tanımı\n",
    "hayvanlar = ('kedi', 'köpek', 'kurbağa', 'kaplumbağa')\n",
    "```\n",
    "\n",
    "- Her eleman, listelerdeki gibi indexleri ile elde edilebilir.\n",
    "- Kendi içlerinde başka listeler ve tuple'lar barındırabilirler.\n",
    "- Tuple'ların kendileri değişmese bile, içerisindeki değiştirilebilir nesneler değiştirilebilirler. (Örn: Listeler)\n",
    "- +, * ve in operatörleri ile işlem görebilirler.\n",
    "- Slicing operatörleri ile işlem görebilirler.\n",
    "- For loopları içerisinde kullanılabilirler.\n",
    "- Sadece `.count()` ve `.index()` metodları barındırırlar."
   ]
  },
  {
   "cell_type": "code",
   "execution_count": 26,
   "id": "c2aece41",
   "metadata": {},
   "outputs": [
    {
     "name": "stdout",
     "output_type": "stream",
     "text": [
      "2\n",
      "1\n"
     ]
    }
   ],
   "source": [
    "# Tuple tanımı\n",
    "tpl = (1, 5, 5, 5, 1, 6)\n",
    "print(tpl.count(1))\n",
    "print(tpl.index(5))"
   ]
  },
  {
   "cell_type": "markdown",
   "id": "38722a99",
   "metadata": {},
   "source": [
    "---\n",
    "## 4. Dictionary\n",
    "Dictionary, içinde birden fazla anahtar-değer çifti (key-value pair) taşıyan bir veri türüdür. Dictionary veri türü, herhangi bir veri tipine ait olabilen \"anahtar (key)\" dediğimiz veriler ile, her bir anahtarın ilişkili olduğu \"değer (value)\" çiftlerini taşır. \n",
    "\n",
    "Birçok kaynakta dictionary öğelerinin sırasının tutulmadığı söylenir. Bu yalnızca kısmen doğrudur. Dictionary veri türü Python 3.7'dan itibaren \"yerleştirme sırasına\" göre sıralanırlar. Ancak iki dictionary'nin birbirine eşit olup olmadığına bakılırken sıra bilgisi dikkate alınmaz. Python 3.7'den önce dictionary veri türü tamamen sırasızdı."
   ]
  },
  {
   "cell_type": "code",
   "execution_count": 27,
   "id": "628340a4",
   "metadata": {},
   "outputs": [
    {
     "name": "stdout",
     "output_type": "stream",
     "text": [
      "Şişman\n",
      "5\n",
      "{'Kilo': 'Şişman', 'Yaş': 5, 'Boyut': 'Büyük', 'Cinsi': 'Tekir', 'Cinsiyet': 'Dişi'}\n"
     ]
    }
   ],
   "source": [
    "# Dictionary tanımı\n",
    "kedi = {'Kilo':'Şişman', 'Yaş': 5, 'Boyut': 'Büyük', 'Cinsi':'Tekir'}\n",
    "print(kedi['Kilo'])\n",
    "print(kedi['Yaş'])\n",
    "\n",
    "kedi['Cinsiyet'] = 'Dişi'\n",
    "print(kedi)"
   ]
  },
  {
   "cell_type": "code",
   "execution_count": 28,
   "id": "f58fdbfb",
   "metadata": {},
   "outputs": [
    {
     "name": "stdout",
     "output_type": "stream",
     "text": [
      "Kilo = Şişman\n",
      "Yaş = 5\n",
      "Boyut = Büyük\n",
      "Cinsi = Tekir\n",
      "Cinsiyet = Dişi\n"
     ]
    }
   ],
   "source": [
    "# Dictionary sırası, tuple unpacking örneği\n",
    "\n",
    "for k, v in kedi.items():\n",
    "    print(str(k) + ' = ' + str(v))"
   ]
  },
  {
   "cell_type": "markdown",
   "id": "871c9cd1",
   "metadata": {},
   "source": [
    "### .get(key, default) metodu\n",
    "Dictionary içinden belirtilen anahtara sahip değeri verir. Eğer anahtar bulunamazsa varsayılan değeri döndürür."
   ]
  },
  {
   "cell_type": "code",
   "execution_count": 29,
   "id": "e7ec93ec",
   "metadata": {
    "scrolled": true
   },
   "outputs": [
    {
     "ename": "KeyError",
     "evalue": "'Cinsi'",
     "output_type": "error",
     "traceback": [
      "\u001b[1;31m---------------------------------------------------------------------------\u001b[0m",
      "\u001b[1;31mKeyError\u001b[0m                                  Traceback (most recent call last)",
      "\u001b[1;32m<ipython-input-29-fa20fe1714d9>\u001b[0m in \u001b[0;36m<module>\u001b[1;34m\u001b[0m\n\u001b[0;32m      3\u001b[0m \u001b[0mkedi\u001b[0m\u001b[1;33m.\u001b[0m\u001b[0mget\u001b[0m\u001b[1;33m(\u001b[0m\u001b[1;34m'Cinsi'\u001b[0m\u001b[1;33m,\u001b[0m \u001b[1;34m'bilinmiyor'\u001b[0m\u001b[1;33m)\u001b[0m\u001b[1;33m\u001b[0m\u001b[1;33m\u001b[0m\u001b[0m\n\u001b[0;32m      4\u001b[0m \u001b[1;33m\u001b[0m\u001b[0m\n\u001b[1;32m----> 5\u001b[1;33m \u001b[0mprint\u001b[0m\u001b[1;33m(\u001b[0m\u001b[0mkedi\u001b[0m\u001b[1;33m[\u001b[0m\u001b[1;34m'Cinsi'\u001b[0m\u001b[1;33m]\u001b[0m\u001b[1;33m)\u001b[0m\u001b[1;33m\u001b[0m\u001b[1;33m\u001b[0m\u001b[0m\n\u001b[0m",
      "\u001b[1;31mKeyError\u001b[0m: 'Cinsi'"
     ]
    }
   ],
   "source": [
    "kedi = {'Kilo':'Şişman', 'Yaş': 5, 'Boyut': 'Büyük'}\n",
    "\n",
    "kedi.get('Cinsi', 'bilinmiyor')\n",
    "\n",
    "print(kedi['Cinsi'])"
   ]
  },
  {
   "cell_type": "markdown",
   "id": "5d7d6323",
   "metadata": {},
   "source": [
    "### .setdefault(key, default) metodu\n",
    "Dictionary içinden belirtilen anahtara sahip değeri verir. Eğer anahtar bulunamazsa varsayılan değeri döndürür ve **anahtar değer çiftini dictionary'e ekler**."
   ]
  },
  {
   "cell_type": "code",
   "execution_count": 30,
   "id": "e6c29189",
   "metadata": {},
   "outputs": [
    {
     "name": "stdout",
     "output_type": "stream",
     "text": [
      "{'Kilo': 'Şişman', 'Yaş': 5, 'Boyut': 'Büyük', 'Cinsi': 'Bilinmiyor'}\n"
     ]
    }
   ],
   "source": [
    "kedi.setdefault('Cinsi', 'Bilinmiyor')\n",
    "\n",
    "print(kedi)"
   ]
  },
  {
   "cell_type": "markdown",
   "id": "0b2276f9",
   "metadata": {},
   "source": [
    "### Karakter sayma programı"
   ]
  },
  {
   "cell_type": "code",
   "execution_count": 31,
   "id": "3e4a313b",
   "metadata": {},
   "outputs": [
    {
     "name": "stdout",
     "output_type": "stream",
     "text": [
      "Temmuz başlarında çok sıcak bir gün, akşama doğru, genç bir adam \"S...\" sokağındaki bir pansiyonda kiraladığı küçük odasından çıktı ve ağır, kararsız adımlarla \"K...\" köprüsüne yöneldi.\n",
      "[(25, ' '), (23, 'a'), (12, 'k'), (11, 'ı'), (11, 'r'), (10, 'n'), (10, 'd'), (7, 's'), (7, 'i'), (7, '.'), (5, 'ü'), (5, 'o'), (5, 'm'), (5, 'l'), (5, 'e'), (4, 'ğ'), (4, 'ç'), (4, 'b'), (4, '\"'), (3, ','), (2, 'ş'), (2, 'ö'), (2, 'z'), (2, 'y'), (2, 'u'), (2, 't'), (2, 'p'), (2, 'g'), (1, 'v'), (1, 'c')]\n",
      " : 25\n",
      "a: 23\n",
      "k: 12\n",
      "ı: 11\n",
      "r: 11\n",
      "n: 10\n",
      "d: 10\n",
      "s: 7\n",
      "i: 7\n",
      ".: 7\n",
      "ü: 5\n",
      "o: 5\n",
      "m: 5\n",
      "l: 5\n",
      "e: 5\n",
      "ğ: 4\n",
      "ç: 4\n",
      "b: 4\n",
      "\": 4\n",
      ",: 3\n",
      "ş: 2\n",
      "ö: 2\n",
      "z: 2\n",
      "y: 2\n",
      "u: 2\n",
      "t: 2\n",
      "p: 2\n",
      "g: 2\n",
      "v: 1\n",
      "c: 1\n"
     ]
    }
   ],
   "source": [
    "cumle = \"Temmuz başlarında çok sıcak bir gün, akşama doğru, genç bir adam \\\"S...\\\" sokağındaki bir pansiyonda kiraladığı \\\n",
    "küçük odasından çıktı ve ağır, kararsız adımlarla \\\"K...\\\" köprüsüne yöneldi.\"\n",
    "print(cumle)\n",
    "\n",
    "harf_sozlugu = dict()\n",
    "for krktr in cumle.lower():\n",
    "    if krktr not in harf_sozlugu:\n",
    "        harf_sozlugu[krktr] = 1\n",
    "    else:\n",
    "        harf_sozlugu[krktr] += 1\n",
    "        \n",
    "lst = sorted([(v, k) for (k, v) in harf_sozlugu.items()], reverse = True)\n",
    "\n",
    "print(lst)\n",
    "\n",
    "for v, k in lst:\n",
    "    print(f'{k}: {v}')"
   ]
  },
  {
   "cell_type": "markdown",
   "id": "ca2c34c2",
   "metadata": {},
   "source": [
    "---\n",
    "## 5. Error Handling (Hata Yönetimi)\n",
    "### Syntax Error:\n",
    "Program yazılırken yapılan sözdizimi yanlışlarından kaynaklanan hatalardır. Yazdığımız kod, program çalışmadan önce yorumlayıcı tarafından taranır ve bir yazım yanlışı tespit edilirse programın çalışması engellenir. Bu sayede bu hatalar her zaman programların geliştirilme aşamasında tespit edilir ve giderilir, kullanıcıya ulaşmaz.\n",
    "### Exception:\n",
    "Program syntax testinden geçtikten sonra ortaya çıkabilen ve programın çökmesine sebep olan hatalardır. try/except blokları ile yönetilebilirler. Program çalışırken oluştukları için aynı zamanda **Runtime Error (Çalışma Sırasında Hata)** olarak da adlandırılırlar.\n",
    "### try, except, else, finally yapısı:\n",
    "Python'da hataları yakalamak için `try` ve `except` blokları kullanılır. Eğer `try` bloğundaki kod bir hataya sebep olursa, bu kod bloğu görmezden gelinir ve alınan hataya göre ilgili `except` bloğu çalıştırılır.\n",
    "```python\n",
    "try:\n",
    "    pass # Hata almasını beklediğimiz kod try bloğu içine yazılır.\n",
    "except:\n",
    "    pass # Try bloğunun hata alması durumunda çalıştırılacak kod except bloğu içine yazılır. \n",
    "else:\n",
    "    pass # Eğer hiç bir except bloğu tetiklenmezse çalıştırılacak olan kod else bloğu içine yazılır.\n",
    "finally:\n",
    "    pass # Hata alınsa da alınmasa da çalıştırılacak olan kod finally bloğu içine yazılır.\n",
    "```"
   ]
  },
  {
   "cell_type": "code",
   "execution_count": 32,
   "id": "31588237",
   "metadata": {
    "scrolled": true
   },
   "outputs": [
    {
     "ename": "SyntaxError",
     "evalue": "invalid syntax (<ipython-input-32-cf528823ab59>, line 3)",
     "output_type": "error",
     "traceback": [
      "\u001b[1;36m  File \u001b[1;32m\"<ipython-input-32-cf528823ab59>\"\u001b[1;36m, line \u001b[1;32m3\u001b[0m\n\u001b[1;33m    if myvar > 5\u001b[0m\n\u001b[1;37m                ^\u001b[0m\n\u001b[1;31mSyntaxError\u001b[0m\u001b[1;31m:\u001b[0m invalid syntax\n"
     ]
    }
   ],
   "source": [
    "# Syntax Error\n",
    "myvar = 10\n",
    "if myvar > 5\n",
    "    print(str(myvar) + ', 5\\'den büyük')"
   ]
  },
  {
   "cell_type": "code",
   "execution_count": 33,
   "id": "ad92c7c1",
   "metadata": {
    "scrolled": true
   },
   "outputs": [
    {
     "name": "stdout",
     "output_type": "stream",
     "text": [
      "Pay giriniz: \n"
     ]
    },
    {
     "ename": "ValueError",
     "evalue": "invalid literal for int() with base 10: ''",
     "output_type": "error",
     "traceback": [
      "\u001b[1;31m---------------------------------------------------------------------------\u001b[0m",
      "\u001b[1;31mValueError\u001b[0m                                Traceback (most recent call last)",
      "\u001b[1;32m<ipython-input-33-f698010487bb>\u001b[0m in \u001b[0;36m<module>\u001b[1;34m\u001b[0m\n\u001b[0;32m      1\u001b[0m \u001b[1;31m# Exception\u001b[0m\u001b[1;33m\u001b[0m\u001b[1;33m\u001b[0m\u001b[1;33m\u001b[0m\u001b[0m\n\u001b[1;32m----> 2\u001b[1;33m \u001b[0msayi1\u001b[0m \u001b[1;33m=\u001b[0m \u001b[0mint\u001b[0m\u001b[1;33m(\u001b[0m\u001b[0minput\u001b[0m\u001b[1;33m(\u001b[0m\u001b[1;34m\"Pay giriniz: \"\u001b[0m\u001b[1;33m)\u001b[0m\u001b[1;33m)\u001b[0m\u001b[1;33m\u001b[0m\u001b[1;33m\u001b[0m\u001b[0m\n\u001b[0m\u001b[0;32m      3\u001b[0m \u001b[0msayi2\u001b[0m \u001b[1;33m=\u001b[0m \u001b[0mint\u001b[0m\u001b[1;33m(\u001b[0m\u001b[0minput\u001b[0m\u001b[1;33m(\u001b[0m\u001b[1;34m\"Payda giriniz: \"\u001b[0m\u001b[1;33m)\u001b[0m\u001b[1;33m)\u001b[0m\u001b[1;33m\u001b[0m\u001b[1;33m\u001b[0m\u001b[0m\n\u001b[0;32m      4\u001b[0m \u001b[0mbolum\u001b[0m \u001b[1;33m=\u001b[0m \u001b[0msayi1\u001b[0m \u001b[1;33m/\u001b[0m \u001b[0msayi2\u001b[0m\u001b[1;33m\u001b[0m\u001b[1;33m\u001b[0m\u001b[0m\n\u001b[0;32m      5\u001b[0m \u001b[0mprint\u001b[0m\u001b[1;33m(\u001b[0m\u001b[0mbolum\u001b[0m\u001b[1;33m)\u001b[0m\u001b[1;33m\u001b[0m\u001b[1;33m\u001b[0m\u001b[0m\n",
      "\u001b[1;31mValueError\u001b[0m: invalid literal for int() with base 10: ''"
     ]
    }
   ],
   "source": [
    "# Exception\n",
    "sayi1 = int(input(\"Pay giriniz: \"))\n",
    "sayi2 = int(input(\"Payda giriniz: \"))\n",
    "bolum = sayi1 / sayi2\n",
    "print(bolum)"
   ]
  },
  {
   "cell_type": "code",
   "execution_count": 34,
   "id": "b213f6a6",
   "metadata": {},
   "outputs": [
    {
     "name": "stdout",
     "output_type": "stream",
     "text": [
      "Pay giriniz: \n",
      "Hatalı veya eksik veri.\n",
      "finally bloğu çalıştır\n",
      "döngüden çıktık\n"
     ]
    }
   ],
   "source": [
    "while True:\n",
    "    try:\n",
    "        sayi1 = int(input(\"Pay giriniz: \"))\n",
    "        sayi2 = int(input(\"Payda giriniz: \"))\n",
    "        \n",
    "        bolum = sayi1 / sayi2\n",
    "        \n",
    "        x = y\n",
    "    except ZeroDivisionError:\n",
    "        print('0a bölmeye çalıştınız.')\n",
    "        continue\n",
    "    except ValueError:\n",
    "        print('Hatalı veya eksik veri.')\n",
    "        break\n",
    "    except Exception as hata:\n",
    "        print('bir hata oldu: ')\n",
    "        print(hata)\n",
    "        continue\n",
    "    else:\n",
    "        print(bolum)\n",
    "        break\n",
    "    finally:\n",
    "        print('finally bloğu çalıştır')\n",
    "        \n",
    "print('döngüden çıktık')"
   ]
  },
  {
   "cell_type": "markdown",
   "id": "81d4587a",
   "metadata": {},
   "source": [
    "---\n",
    "## 6. String\n",
    "Şimdiye kadar string türleri ile yalnızca `+` operatörü ile iki yazıyı uçtan uca birleştirmeyi ve `*` operatörü ile yazıları tekrar etmeyi öğrendik. Ancak Python'da stringler ile yapabileceğimiz çok daha fazla işlem vardır."
   ]
  },
  {
   "cell_type": "markdown",
   "id": "76a12290",
   "metadata": {},
   "source": [
    "|Kod|Sonuç|\n",
    "|:---:|:---:|\n",
    "|\\\\'|Tek Tırnak|\n",
    "|\\\\\"|Çift Tırnak|\n",
    "| \\\\\\ |Ters Eğik Çizgi|\n",
    "|\\n|Yeni Satır|\n",
    "|\\t|Tab Karakteri|\n",
    "|\\b|Backspace (silme)|"
   ]
  },
  {
   "cell_type": "code",
   "execution_count": 35,
   "id": "1cdef192",
   "metadata": {},
   "outputs": [
    {
     "name": "stdout",
     "output_type": "stream",
     "text": [
      "\n",
      "Two households, both alike in dignity,\n",
      "In fair Verona, where we lay our scene,\n",
      "From ancient grudge break to new mutiny,\n",
      "Where civil blood makes civil hands unclean.\n",
      "From forth the fatal loins of these two foes\n",
      "A pair of star-cross'd lovers take their life;\n",
      "Whose misadventured piteous overthrows\n",
      "Do with their death bury their parents' strife.\n",
      "The fearful passage of their death-mark'd love,\n",
      "And the continuance of their parents' rage,\n",
      "Which, but their children's end, nought could remove,\n",
      "Is now the two hours' traffic of our stage;\n",
      "The which if you with patient ears attend,\n",
      "What here shall miss, our toil shall strive to mend.\n",
      "\n"
     ]
    }
   ],
   "source": [
    "# Çok Satırlı Stringler\n",
    "romeo_juliet_prologue = '''\n",
    "Two households, both alike in dignity,\n",
    "In fair Verona, where we lay our scene,\n",
    "From ancient grudge break to new mutiny,\n",
    "Where civil blood makes civil hands unclean.\n",
    "From forth the fatal loins of these two foes\n",
    "A pair of star-cross'd lovers take their life;\n",
    "Whose misadventured piteous overthrows\n",
    "Do with their death bury their parents' strife.\n",
    "The fearful passage of their death-mark'd love,\n",
    "And the continuance of their parents' rage,\n",
    "Which, but their children's end, nought could remove,\n",
    "Is now the two hours' traffic of our stage;\n",
    "The which if you with patient ears attend,\n",
    "What here shall miss, our toil shall strive to mend.\n",
    "'''\n",
    "\n",
    "print(romeo_juliet_prologue)"
   ]
  },
  {
   "cell_type": "markdown",
   "id": "cd8cd44d",
   "metadata": {},
   "source": [
    "### Önemli String Metodları\n",
    "- `.upper()`: String içindeki bütün harfleri büyük harfe çevirir.\n",
    "- `.isupper()`: String içindeki harflerin tümünün büyük harf olması durumunda `True` değerini verir.\n",
    "- `.startswith(string)`: String içindeki ilk karakterlerin verilen string ile aynı olması durumunda `True` değerini verir.\n",
    "- `.split()`: Bir boşluk karakterleri ile ayırır ve bir liste oluşturur.\n",
    "- `.strip()`: Stringi başında ve sonundaki boşlukluklardan arındırır."
   ]
  },
  {
   "cell_type": "markdown",
   "id": "4fb35e82",
   "metadata": {},
   "source": [
    "### f-String yapısı ile String Biçimlendirme"
   ]
  },
  {
   "cell_type": "code",
   "execution_count": 36,
   "id": "2668126e",
   "metadata": {},
   "outputs": [
    {
     "name": "stdout",
     "output_type": "stream",
     "text": [
      "Merhaba, ben Çağatay. 21 yaşındayım. Doğuş Üniversitesi'nde Elektronik ve Haberleşme Mühendisliği 4. öğrencisiyim.\n",
      "Yüzdeli format: Merhaba ben Bayram.\n",
      ".format ile: Merhaba ben Çağatay. 21 yaşındayım.\n"
     ]
    }
   ],
   "source": [
    "isim = 'Çağatay'\n",
    "okul = 'Doğuş Üniversitesi'\n",
    "bolum = 'Elektronik ve Haberleşme Mühendisliği'\n",
    "sinif = 4\n",
    "yas = 21\n",
    "\n",
    "print(f'Merhaba, ben {isim}. {yas} yaşındayım. {okul}\\'nde {bolum} {sinif}. öğrencisiyim.')\n",
    "\n",
    "yuzdeli_format = 'Merhaba ben %s.' % ('Bayram')\n",
    "print('Yüzdeli format: ' + yuzdeli_format)\n",
    "\n",
    "format_metodu = 'Merhaba ben {isim}. {yas} yaşındayım.'.format(yas = yas, isim = isim)\n",
    "print('.format ile: ' + format_metodu)"
   ]
  }
 ],
 "metadata": {
  "kernelspec": {
   "display_name": "Python 3",
   "language": "python",
   "name": "python3"
  },
  "language_info": {
   "codemirror_mode": {
    "name": "ipython",
    "version": 3
   },
   "file_extension": ".py",
   "mimetype": "text/x-python",
   "name": "python",
   "nbconvert_exporter": "python",
   "pygments_lexer": "ipython3",
   "version": "3.9.4"
  }
 },
 "nbformat": 4,
 "nbformat_minor": 5
}
