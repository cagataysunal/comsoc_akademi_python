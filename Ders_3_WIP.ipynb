{
 "cells": [
  {
   "cell_type": "markdown",
   "id": "383d5b57",
   "metadata": {},
   "source": [
    "# Python Eğitimi 3. Ders\n",
    "\n",
    "Bu derste:\n",
    "\n",
    "- Python ile dosyalara erişim.\n",
    "- Regular Expressions (regex)\n",
    "- OOP Giriş\n",
    "\n",
    "konularını öğreneceğiz."
   ]
  },
  {
   "cell_type": "markdown",
   "id": "47f92892",
   "metadata": {},
   "source": [
    "## 1. Dosyalara Erişim\n",
    "\n",
    "Python'da bilgisayardaki dosyaları açmak için `open()` fonksiyonunu kullanırız. Bu fonksiyon dosyanın kendisinden ziyade bize ilgili dosyaya ait bir \"dosya tanıtıcısı\" (File Handle) döndürür (dosyanın anahtarı gibi düşünülebilir). Bu sayede bellekte büyük miktarlarda veri saklanmasına gerek kalmaz."
   ]
  },
  {
   "cell_type": "code",
   "execution_count": null,
   "id": "35b68222",
   "metadata": {},
   "outputs": [],
   "source": [
    "# Bir file handle nesnesi oluşturduk ve fhandle değişkenine atadık\n",
    "fhandle = open('test_dosyasi.txt', 'r', encoding = 'utf-8')"
   ]
  },
  {
   "cell_type": "code",
   "execution_count": null,
   "id": "57bacefa",
   "metadata": {},
   "outputs": [],
   "source": [
    "# .read() metodu ile dosyanın bütün içeriğini bir değişkene aktardık. Peki eğer dosyamız çok büyükse?\n",
    "fcontent = fhandle.read()\n",
    "print(fcontent)"
   ]
  },
  {
   "cell_type": "code",
   "execution_count": null,
   "id": "569283af",
   "metadata": {},
   "outputs": [],
   "source": [
    "# Bellek sızıntısı olmaması için açılan her dosya kapatılmalıdır.\n",
    "fhandle.close()"
   ]
  },
  {
   "cell_type": "markdown",
   "id": "fdf478e3",
   "metadata": {},
   "source": [
    "Peki eğer kullandığımız dosyada bir hata olursa, veya dosya bir sebepten dolayı kapanmazsa ve programda bellek sızıntısına sebep olursa?\n",
    "### Context Manager\n",
    "Python'da kaynakların etkili kullanımı ve kullanılan kaynakların sisteme geri iadesi için bir \"Context Management Protocol\" (Bağlam Yönetim Protokolü) geliştirilmiştir. Bu bağlam yöneticilerine `with` anahtar kelimesi ile ulaşılabilir."
   ]
  },
  {
   "cell_type": "code",
   "execution_count": 14,
   "id": "6f9c295e",
   "metadata": {
    "scrolled": true
   },
   "outputs": [
    {
     "name": "stdout",
     "output_type": "stream",
     "text": [
      "Bu bir test dosyasıdır!!!!\n"
     ]
    }
   ],
   "source": [
    "with open('test_dosyasi.txt', 'r', encoding = 'utf-8') as fhandle:\n",
    "    fcontent = fhandle.read()\n",
    "    print(fcontent)"
   ]
  },
  {
   "cell_type": "markdown",
   "id": "db93265f",
   "metadata": {},
   "source": [
    "Şu ana kadar dosyalar ile yaptığımız işlemlerde açtığımız dosyaların çalıştığımız klasör ile aynı konumda olduğunu varsayarak hareket ettik. Peki ya eğer erişmek istediğimiz dosya farklı bir yerde ise? Bunun için iki yolumuz var: \n",
    "1. Dosyanın mutlak konumunu belirtmek.\n",
    "2. Dosyanın göreceli konumunu belirtmek.\n",
    "\n",
    "### 1. Dosyanın mutlak konumunu belirtmek:\n",
    "İlk parametreye dosyanın adı yerine dosyanın tam konumu belirtilir. (ÖRNEK: C:\\Users\\cagat\\Desktop\\comsoc_akademi_python\\test_dosyasi.txt)"
   ]
  },
  {
   "cell_type": "code",
   "execution_count": 24,
   "id": "4d051e66",
   "metadata": {},
   "outputs": [
    {
     "name": "stdout",
     "output_type": "stream",
     "text": [
      "Bu dosya başka bir konumda.\n"
     ]
    }
   ],
   "source": [
    "with open(r'C:\\Users\\cagat\\Desktop\\comsoc_akademi_python\\test_klasor\\baska_konumda_dosya.txt', 'r', encoding = 'utf-8') as fhandle:\n",
    "    fcontent = fhandle.read()\n",
    "    print(fcontent)"
   ]
  },
  {
   "cell_type": "markdown",
   "id": "6253bf75",
   "metadata": {},
   "source": [
    "### 2. Dosyanın göreceli konumunu belirtmek:\n",
    "Erişmek istediğimiz dosyanın, programın çalıştığı klasöre göreceli olarak konumunun belirtilmesidir. Ancak `open()` fonksiyonu ile bunu bulamayız. Burada devreye, kullandığımız işletim sisteminden faydalanmamıza olanak sağlayan **os modülü** devreye giriyor.\n",
    "#### os modülü\n",
    "```python\n",
    "import os\n",
    "```"
   ]
  },
  {
   "cell_type": "code",
   "execution_count": null,
   "id": "e87e8434",
   "metadata": {},
   "outputs": [],
   "source": []
  }
 ],
 "metadata": {
  "kernelspec": {
   "display_name": "Python 3",
   "language": "python",
   "name": "python3"
  },
  "language_info": {
   "codemirror_mode": {
    "name": "ipython",
    "version": 3
   },
   "file_extension": ".py",
   "mimetype": "text/x-python",
   "name": "python",
   "nbconvert_exporter": "python",
   "pygments_lexer": "ipython3",
   "version": "3.9.4"
  }
 },
 "nbformat": 4,
 "nbformat_minor": 5
}
