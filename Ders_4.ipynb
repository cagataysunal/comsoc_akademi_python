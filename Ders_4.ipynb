{
 "cells": [
  {
   "cell_type": "markdown",
   "metadata": {},
   "source": [
    "# Python 4. Ders\n",
    "- Web Scraping\n",
    "    - Webbrowser\n",
    "    - Requests\n",
    "    - BeautifulSoup\n",
    "---"
   ]
  },
  {
   "cell_type": "markdown",
   "metadata": {},
   "source": [
    "---\n",
    "## Webbrowser\n",
    "\n",
    "Verilen URL'yi varsayılan tarayıcıda açmamıza yarar.\n"
   ]
  },
  {
   "cell_type": "code",
   "execution_count": null,
   "metadata": {
    "scrolled": true
   },
   "outputs": [],
   "source": [
    "import webbrowser"
   ]
  },
  {
   "cell_type": "code",
   "execution_count": null,
   "metadata": {},
   "outputs": [],
   "source": [
    "webbrowser.open('https://www.google.com/')"
   ]
  },
  {
   "cell_type": "code",
   "execution_count": null,
   "metadata": {},
   "outputs": [],
   "source": [
    "sorgu = input('Lütfen aramak istediğiniz adresi giriniz: ')\n",
    "url = 'https://www.google.com/maps/search/' + sorgu\n",
    "webbrowser.open(url)"
   ]
  },
  {
   "cell_type": "code",
   "execution_count": null,
   "metadata": {},
   "outputs": [],
   "source": [
    "sorgu = input('Lütfen aramak istediğiniz adresi giriniz: ')\n",
    "\n",
    "url = 'https://www.google.com/maps/?q=' + sorgu\n",
    "webbrowser.open(url)"
   ]
  },
  {
   "cell_type": "markdown",
   "metadata": {},
   "source": [
    "---\n",
    "## Requests\n",
    "\n",
    "Sunucuya HTTP istekleri göndermemizi sağlayan bir modüldür."
   ]
  },
  {
   "cell_type": "code",
   "execution_count": null,
   "metadata": {},
   "outputs": [],
   "source": [
    "import requests"
   ]
  },
  {
   "cell_type": "code",
   "execution_count": null,
   "metadata": {},
   "outputs": [],
   "source": [
    "# requests.get(url) ile bir sunucuya HTTP isteği gönderebiliriz\n",
    "resp = requests.get('https://tr.wikipedia.org/')\n",
    "resp.status_code\n",
    "\n",
    "# ya da\n",
    "\n",
    "resp.ok"
   ]
  },
  {
   "cell_type": "code",
   "execution_count": null,
   "metadata": {},
   "outputs": [],
   "source": [
    "# Eğer bir hata vermesini istiyorsak .raise_for_status() metodunu kullanırız\n",
    "resp.raise_for_status()"
   ]
  },
  {
   "cell_type": "code",
   "execution_count": null,
   "metadata": {},
   "outputs": [],
   "source": [
    "print(resp.url)"
   ]
  },
  {
   "cell_type": "code",
   "execution_count": null,
   "metadata": {},
   "outputs": [],
   "source": [
    "print(resp.text)"
   ]
  },
  {
   "cell_type": "code",
   "execution_count": null,
   "metadata": {
    "scrolled": true
   },
   "outputs": [],
   "source": [
    "print(resp.content)"
   ]
  },
  {
   "cell_type": "markdown",
   "metadata": {},
   "source": [
    "\\>>> **Unicode hakkında daha detaylı bilgi için: https://bit.ly/unipain** <<<"
   ]
  },
  {
   "cell_type": "code",
   "execution_count": null,
   "metadata": {},
   "outputs": [],
   "source": [
    "print(resp.headers)"
   ]
  },
  {
   "cell_type": "code",
   "execution_count": null,
   "metadata": {
    "scrolled": true,
    "tags": []
   },
   "outputs": [],
   "source": [
    "print(resp.headers['content-type'])"
   ]
  },
  {
   "cell_type": "code",
   "execution_count": null,
   "metadata": {},
   "outputs": [],
   "source": [
    "sorgu = input('Lütfen aramak istediğiniz adresi giriniz: ')\n",
    "payload = {'q':sorgu}\n",
    "resp = requests.get('https://www.google.com/maps/', payload)\n",
    "resp.ok"
   ]
  },
  {
   "cell_type": "code",
   "execution_count": null,
   "metadata": {},
   "outputs": [],
   "source": [
    "webbrowser.open(resp.url)"
   ]
  },
  {
   "cell_type": "code",
   "execution_count": null,
   "metadata": {},
   "outputs": [],
   "source": [
    "# İnternetten resim indirme uygulaması\n",
    "resp = requests.get('https://upload.wikimedia.org/wikipedia/commons/thumb/1/1c/Galata_Tower_after_the_2020_restoration.jpg/800px-Galata_Tower_after_the_2020_restoration.jpg')\n",
    "resp.ok"
   ]
  },
  {
   "cell_type": "code",
   "execution_count": null,
   "metadata": {},
   "outputs": [],
   "source": [
    "resp.headers['content-type']"
   ]
  },
  {
   "cell_type": "code",
   "execution_count": null,
   "metadata": {},
   "outputs": [],
   "source": [
    "with open('galata_kulesi.jpeg', 'wb') as image:\n",
    "    image.write(resp.content)"
   ]
  },
  {
   "cell_type": "code",
   "execution_count": null,
   "metadata": {},
   "outputs": [],
   "source": [
    "# Belleği aşırı yüklememek için parça parça indirebiliriz\n",
    "with open('galata_kulesi.jpeg', 'wb') as image:\n",
    "    for chunk in resp.iter_content(1024):\n",
    "        image.write(chunk)"
   ]
  },
  {
   "cell_type": "markdown",
   "metadata": {},
   "source": [
    "Bazı yaygın durum kodları:\n",
    "- `200`: OK (İstek başarılı bir şekilde karşılandı) \n",
    "- `404`: Not Found  (Aranan dosya bulunamadı)\n",
    "- `400`: Bad Request (Kötü istek, genelde sözdizimi hatasından kaynaklanır)\n",
    "- `503`: Service Unavailable (Sunucunun bir sebepten isteği yerine getiremediğini belirtir.)\n",
    "\n",
    "Daha fazlası için: https://developer.mozilla.org/en-US/docs/Web/HTTP/Status"
   ]
  },
  {
   "cell_type": "markdown",
   "metadata": {},
   "source": [
    "---\n",
    "## BeautifulSoup\n",
    "\n",
    "Sunucudan aldığımız HTML'i kolayca ayrıştırmamıza yarayan bir kütüphanedir.\n",
    "\n",
    "[BeautifulSoup dokümentasyonu](https://www.crummy.com/software/BeautifulSoup/bs4/doc/)"
   ]
  },
  {
   "cell_type": "code",
   "execution_count": null,
   "metadata": {},
   "outputs": [],
   "source": [
    "import bs4\n",
    "from urllib.parse import urljoin # İki url'i birleştirmek için kullanıyoruz."
   ]
  },
  {
   "cell_type": "code",
   "execution_count": null,
   "metadata": {
    "scrolled": true
   },
   "outputs": [],
   "source": [
    "url = 'https://tr.wikipedia.org/'\n",
    "resp = requests.get(url)\n",
    "resp.ok"
   ]
  },
  {
   "cell_type": "code",
   "execution_count": null,
   "metadata": {},
   "outputs": [],
   "source": [
    "soup = bs4.BeautifulSoup(resp.text)"
   ]
  },
  {
   "cell_type": "code",
   "execution_count": null,
   "metadata": {},
   "outputs": [],
   "source": [
    "anchor_tags = soup.find_all('a')\n",
    "print(anchor_tags)"
   ]
  },
  {
   "cell_type": "code",
   "execution_count": null,
   "metadata": {},
   "outputs": [],
   "source": [
    "anchor_tags = soup.find_all('a', href=True)"
   ]
  },
  {
   "cell_type": "code",
   "execution_count": null,
   "metadata": {
    "tags": [
     "outputPrepend"
    ]
   },
   "outputs": [],
   "source": [
    "# Bütün anchor etiketlerini bul ve barındırdığı linkleri, içindeki text ile beraber yazdır.\n",
    "for a in anchor_tags:\n",
    "    if a['href'].startswith('/'):\n",
    "        # Eğer href'ler / ile başlıyorsa başına https://tr.wikipedia.org/ adresini koyarak gösteriyoruz.\n",
    "        print(a.contents[0], ':', urljoin(url, a.get('href')))\n",
    "    else:\n",
    "        print(a.contents[0], ':', a.get('href'))"
   ]
  },
  {
   "cell_type": "code",
   "execution_count": null,
   "metadata": {},
   "outputs": [],
   "source": [
    "# Amazon fiyat kontrol etme\n",
    "import re\n",
    "\n",
    "\n",
    "def getAmazonPrice(amazon_url):\n",
    "    'Request a response, then check for errors'\n",
    "    res = requests.get(amazon_url)\n",
    "    res.raise_for_status()\n",
    "\n",
    "    soup = bs4.BeautifulSoup(res.text, features='html.parser')\n",
    "    elems = soup.select('#price_inside_buybox')\n",
    "\n",
    "    return elems[0].text.strip()\n",
    "\n",
    "\n",
    "url_regex = re.compile(r'(.*)\\??')\n",
    "url = url_regex.search(input('Input the url: ')).group(1)\n",
    "print('the url is ', url)\n",
    "print('The price is', getAmazonPrice(url))"
   ]
  }
 ],
 "metadata": {
  "kernelspec": {
   "display_name": "Python 3",
   "language": "python",
   "name": "python3"
  },
  "language_info": {
   "codemirror_mode": {
    "name": "ipython",
    "version": 3
   },
   "file_extension": ".py",
   "mimetype": "text/x-python",
   "name": "python",
   "nbconvert_exporter": "python",
   "pygments_lexer": "ipython3",
   "version": "3.9.4"
  },
  "metadata": {
   "interpreter": {
    "hash": "5b3e45b539ba5edd5210075fd3887b6173a26583a3380dc0c1373bc926b33440"
   }
  }
 },
 "nbformat": 4,
 "nbformat_minor": 2
}
